{
 "cells": [
  {
   "cell_type": "markdown",
   "metadata": {
    "tags": [
     "remove_cell"
    ]
   },
   "source": [
    "<h1 style=\"font-size:35px;\n",
    "        color:black;\n",
    "        \">Lab 1 Quantum Measurements</h1>"
   ]
  },
  {
   "cell_type": "markdown",
   "metadata": {},
   "source": [
    "Prerequisite\n",
    "- [Ch.1.4 Single Qubit Gates](https://qiskit.org/textbook/ch-states/single-qubit-gates.html)\n",
    "- [Ch.2.2 Multiple Qubits and Entangled States](https://qiskit.org/textbook/ch-gates/multiple-qubits-entangled-states.html)\n",
    "- [Mitigating Noise on Real Quantum Computers](https://www.youtube.com/watch?v=yuDxHJOKsVA&list=PLOFEBzvs-Vvp2xg9-POLJhQwtVktlYGbY&index=8)\n",
    "\n",
    "\n",
    "Other relevant materials\n",
    "- [Feynman Lectures Ch. III - 12](https://www.feynmanlectures.caltech.edu/III_12.html)\n",
    "- [Quantum Operation](https://qiskit.org/documentation/tutorials/circuits/3_summary_of_quantum_operations.html)\n",
    "- [Interactive Bloch Sphere](https://nonhermitian.org/kaleido/stubs/kaleidoscope.interactive.bloch_sphere.html#kaleidoscope.interactive.bloch_sphere)\n",
    "- [Ch.5.2 Measurement Error Mitigation](https://qiskit.org/textbook/ch-quantum-hardware/measurement-error-mitigation.html)"
   ]
  },
  {
   "cell_type": "code",
   "execution_count": 2,
   "metadata": {},
   "outputs": [],
   "source": [
    "import numpy as np\n",
    "from qiskit import *\n",
    "import math as math\n",
    "from numpy import linalg as la\n",
    "from qiskit.tools.monitor import job_monitor\n",
    "import qiskit.tools.jupyter\n",
    "import matplotlib.pyplot as plt #needed to draw circuits"
   ]
  },
  {
   "cell_type": "markdown",
   "metadata": {},
   "source": [
    "<h2 style=\"font-size:24px;\">Part 1: Measuring the state of a qubit</h2>\n",
    "\n",
    "<br>\n",
    "<div style=\"background: #E8E7EB; border-radius: 5px;\n",
    "-moz-border-radius: 5px;\">\n",
    "  <p style=\"background: #800080;\n",
    "            border-radius: 5px 5px 0px 0px;\n",
    "            padding: 10px 0px 10px 10px;\n",
    "            font-size:18px;\n",
    "            color:white;\n",
    "            \"><b>Goal</b></p>\n",
    "    <p style=\" padding: 0px 0px 10px 10px;\n",
    "              font-size:16px;\">Determine the Bloch components of a qubit.</p>\n",
    "</div>\n",
    "\n",
    "Fundamental to the operation of a quantum computer is the ability to compute the Bloch components of a qubit or qubits. These components correspond to the expectation values of the Pauli operators $X, Y, Z$, and are important quantities for applications such as quantum chemistry and optimization.  Unfortunately, it is impossible to simultaneously compute these values, thus requiring many executions of the same circuit.  In addition, measurements are restricted to the computational basis (Z-basis) so that each Pauli needs to be rotated to the standard basis to access the x and y components.  Here we verify the methods by considering the case of a random vector on the Bloch sphere."
   ]
  },
  {
   "cell_type": "markdown",
   "metadata": {},
   "source": [
    "<h3 style=\"font-size: 20px\">&#128211; 1. Express the expectation values of the Pauli operators for an arbitrary qubit state $|q\\rangle$ in the computational basis. </h3>\n",
    "\n",
    "The case for the expectation value of Pauli Z gate is given as an example. "
   ]
  },
  {
   "cell_type": "markdown",
   "metadata": {},
   "source": [
    "<h3 style=\"font-size: 20px\">2. Measure the Bloch sphere coordinates of a qubit using the Aer simulator and plot the vector on the Bloch sphere.</h3>"
   ]
  },
  {
   "cell_type": "markdown",
   "metadata": {},
   "source": [
    "Using the diagonal representation, also known as spectral form or orthonormal decomposition, of Pauli $Z$ gate and the relations among the Pauli gates (see [here](https://qiskit.org/textbook/ch-states/single-qubit-gates.html)), expectation values of $ X, Y, Z $ gates can be written using $ X=HZH$ and $Y = SXS^\\dagger$ as  \n",
    "\n",
    "\n",
    "\\begin{equation}\n",
    "\\langle Z \\rangle =\\langle q | Z | q\\rangle =\\langle q|0\\rangle\\langle 0|q\\rangle - \\langle q|1\\rangle\\langle 1|q\\rangle\n",
    "=|\\langle 0 |q\\rangle|^2 - |\\langle 1 | q\\rangle|^2  \n",
    "\\end{equation}\n",
    "\n",
    "\\begin{equation}\n",
    "\\langle X \\rangle = \\langle q| X |q \\rangle = \\langle q | H^\\dagger ZH |q \\rangle = \\langle q' |Z| q' \\rangle = \\langle q'|0\\rangle\\langle 0 |q'\\rangle - \\langle q'|1\\rangle\\langle1|q'\\rangle =  | \\langle 0|q' \\rangle |^2 - | \\langle 1 | q' \\rangle |^2 \n",
    "\\end{equation}\n",
    "\n",
    "\\begin{align}\n",
    "\\langle Y \\rangle = \\langle q | Y | q \\rangle = \\langle q | S X S^\\dagger | q \\rangle = \\langle q' | X | q' \\rangle = \\langle q' | H^\\dagger ZH |q' \\rangle = \\langle q'' |Z| q'' \\rangle = \\langle q''|0 \\rangle \\langle 0 |q'' \\rangle - \\langle q''|1 \\rangle \\langle 1|q'' \\rangle =  | \\langle 0|q'' \\rangle |^2 - | \\langle 1 | q'' \\rangle |^2 \n",
    "\\end{align}\n",
    "\n",
    "\n",
    "\n",
    "\\\\\n",
    "\n",
    ", respectively.\n",
    "\n",
    "\n",
    "\n",
    "\n",
    "\n",
    "\n",
    "Therefore, the expectation values of the Paulis for a qubit state $|q\\rangle$ can be obtained by making a measurement in the standard basis after rotating the standard basis frame to lie along the corresponding axis. The probabilities of obtaining the two possible outcomes 0 and 1 are used to evaluate the desired expectation value as the above equations show."
   ]
  },
  {
   "cell_type": "markdown",
   "metadata": {},
   "source": [
    "<h4 style=\"font-size: 17px\">&#128211;Step A. Create a qubit state using the circuit method, <code>initialize</code> with two random complex numbers as the parameter.</h4>\n",
    "\n",
    "To learn how to use the function `initialize`, check [here](https://qiskit.org/documentation/tutorials/circuits/3_summary_of_quantum_operations.html#Arbitrary-initialization). (go to the `arbitrary initialization` section.)"
   ]
  },
  {
   "cell_type": "code",
   "execution_count": 12,
   "metadata": {},
   "outputs": [
    {
     "name": "stdout",
     "output_type": "stream",
     "text": [
      "The first complex coefficient is 9j\n",
      "The second complex coefficient is (5+1j)\n",
      "The normalization constant is 0.09667364890456635\n",
      "The dot product of the vector is (0.9999999999999998+0j)\n"
     ]
    },
    {
     "data": {
      "text/html": [
       "<pre style=\"word-wrap: normal;white-space: pre;background: #fff0;line-height: 1.1;font-family: &quot;Courier New&quot;,Courier,monospace\">      ┌────────────────────────────────────────┐\n",
       " q38: ┤ Initialize(0.87006j,0.48337+0.096674j) ├\n",
       "      └────────────────────────────────────────┘\n",
       "c1: 1/══════════════════════════════════════════\n",
       "                                                </pre>"
      ],
      "text/plain": [
       "      ┌────────────────────────────────────────┐\n",
       " q38: ┤ Initialize(0.87006j,0.48337+0.096674j) ├\n",
       "      └────────────────────────────────────────┘\n",
       "c1: 1/══════════════════════════════════════════\n",
       "                                                "
      ]
     },
     "execution_count": 12,
     "metadata": {},
     "output_type": "execute_result"
    }
   ],
   "source": [
    "\n",
    "\n",
    "import random\n",
    "import math\n",
    "\n",
    "#create vector with two random complex numbers. I kept them between 1 and 9 for simplicity, but they could be any integer\n",
    "\n",
    "a = random.randint(0,9)\n",
    "b = random.randint(0,9)\n",
    "c = random.randint(0,9)\n",
    "d = random.randint(0,9)\n",
    "\n",
    "vector = [complex(a,b) , complex(c,d) ]\n",
    "\n",
    "\n",
    "#vector = [random.randint(1,9)*complex(0,1) , random.randint(1,9)*complex(0,1) ]\n",
    "\n",
    "print (\"The first complex coefficient is\", vector[0])\n",
    "print (\"The second complex coefficient is\", vector[1])\n",
    "\n",
    "#normalize vector\n",
    "norm = np.conj(vector[0]) * vector[0] + np.conj(vector[1]) * vector[1] \n",
    "norm = 1 / math.sqrt(norm.real)\n",
    "vector[0] = norm*vector[0]\n",
    "vector[1] = norm*vector[1]\n",
    "\n",
    "print (\"The normalization constant is\", norm)\n",
    "\n",
    "#print the dot product of the established vector to ensure its normalized\n",
    "print (\"The dot product of the vector is\", np.vdot(vector,vector))\n",
    "\n",
    "#create quantum circuit\n",
    "q = QuantumRegister(1)\n",
    "c = ClassicalRegister(1)\n",
    "qc = QuantumCircuit(q,c)\n",
    "qc.initialize(vector, [q[0]] )\n",
    "qc.draw()\n",
    "\n"
   ]
  },
  {
   "cell_type": "markdown",
   "metadata": {},
   "source": [
    "<h4 style=\"font-size: 17px\">&#128211; Step B. Build the circuits to measure the expectation values of $X, Y, Z$ gate based on your answers to the question 1.  Run the cell below to estimate the Bloch sphere coordinates of the qubit from step A using the Aer simulator.</h4>\n",
    "\n",
    "The circuit for $Z$ gate measurement is given as an example."
   ]
  },
  {
   "cell_type": "code",
   "execution_count": 5,
   "metadata": {},
   "outputs": [
    {
     "name": "stdout",
     "output_type": "stream",
     "text": [
      "The Bloch sphere coordinates are [0.580, 0.556, 0.596]\n"
     ]
    }
   ],
   "source": [
    "\n",
    "\n",
    "# z measurement of qubit 0\n",
    "measure_z = QuantumCircuit(1,1)\n",
    "measure_z.measure(0,0)\n",
    "\n",
    "\n",
    "\n",
    "# x measurement of qubit 0\n",
    "measure_x = QuantumCircuit(1,1)\n",
    "measure_x.measure(0,0)\n",
    "\n",
    "\n",
    "\n",
    "\n",
    "\n",
    "# y measurement of qubit 0\n",
    "measure_y = QuantumCircuit(1,1)\n",
    "measure_y.measure(0,0)\n",
    "\n",
    "\n",
    "\n",
    "\n",
    "shots = 2**14 # number of samples used for statistics\n",
    "sim = Aer.get_backend('aer_simulator')\n",
    "bloch_vector_measure = []\n",
    "for measure_circuit in [measure_x, measure_y, measure_z]:\n",
    "    \n",
    "    # run the circuit with the selected measurement and get the number of samples that output each bit value\n",
    "    circ_trans = transpile(qc.compose(measure_circuit), sim)\n",
    "    counts = sim.run(qc.compose(circ_trans), shots=shots).result().get_counts()\n",
    "\n",
    "    # calculate the probabilities for each bit value\n",
    "    probs = {}\n",
    "    for output in ['0','1']:\n",
    "        if output in counts:\n",
    "            probs[output] = counts[output]/shots\n",
    "        else:\n",
    "            probs[output] = 0\n",
    "            \n",
    "    bloch_vector_measure.append( probs['0'] -  probs['1'] )\n",
    "\n",
    "# normalizing the Bloch sphere vector\n",
    "bloch_vector = bloch_vector_measure/la.norm(bloch_vector_measure)\n",
    "\n",
    "print('The Bloch sphere coordinates are [{0:4.3f}, {1:4.3f}, {2:4.3f}]'\n",
    "      .format(*bloch_vector))"
   ]
  },
  {
   "cell_type": "markdown",
   "metadata": {},
   "source": [
    "<h4 style=\"font-size: 17px\">Step C. Plot the vector on the Bloch sphere.</h4>\n",
    "\n",
    "Note that the following cell for the interactive bloch_sphere would not run properly unless you work in [IQX](https://quantum-computing.ibm.com/login). You can either use `plot_bloch_vector` for the non-interactive version or install `kaleidoscope` by running \n",
    "\n",
    "```\n",
    "pip install kaleidoscope\n",
    "\n",
    "```\n",
    "in a terminal.  You also need to restart your kernel after the installation.  To learn more about how to use the interactive Bloch sphere, go [here](https://nonhermitian.org/kaleido/stubs/kaleidoscope.interactive.bloch_sphere.html#kaleidoscope.interactive.bloch_sphere)."
   ]
  },
  {
   "cell_type": "code",
   "execution_count": 13,
   "metadata": {},
   "outputs": [
    {
     "ename": "ModuleNotFoundError",
     "evalue": "No module named 'kaleidoscope'",
     "output_type": "error",
     "traceback": [
      "\u001b[1;31m---------------------------------------------------------------------------\u001b[0m",
      "\u001b[1;31mModuleNotFoundError\u001b[0m                       Traceback (most recent call last)",
      "Input \u001b[1;32mIn [13]\u001b[0m, in \u001b[0;36m<module>\u001b[1;34m\u001b[0m\n\u001b[1;32m----> 1\u001b[0m \u001b[38;5;28;01mfrom\u001b[39;00m \u001b[38;5;21;01mkaleidoscope\u001b[39;00m\u001b[38;5;21;01m.\u001b[39;00m\u001b[38;5;21;01minteractive\u001b[39;00m \u001b[38;5;28;01mimport\u001b[39;00m bloch_sphere\n\u001b[0;32m      3\u001b[0m bloch_sphere(bloch_vector, vectors_annotation\u001b[38;5;241m=\u001b[39m\u001b[38;5;28;01mTrue\u001b[39;00m)\n",
      "\u001b[1;31mModuleNotFoundError\u001b[0m: No module named 'kaleidoscope'"
     ]
    }
   ],
   "source": [
    "from kaleidoscope.interactive import bloch_sphere\n",
    "\n",
    "bloch_sphere(bloch_vector, vectors_annotation=True)"
   ]
  },
  {
   "cell_type": "code",
   "execution_count": 14,
   "metadata": {},
   "outputs": [
    {
     "data": {
      "image/png": "[encoded data removed]",
      "text/plain": [
       "<Figure size 360x360 with 1 Axes>"
      ]
     },
     "execution_count": 14,
     "metadata": {},
     "output_type": "execute_result"
    }
   ],
   "source": [
    "from qiskit.visualization import plot_bloch_vector\n",
    "\n",
    "plot_bloch_vector( bloch_vector )"
   ]
  },
  {
   "cell_type": "markdown",
   "metadata": {},
   "source": [
    "<h2 style=\"font-size:24px;\">Part 2: Measuring Energy</h2>\n",
    "\n",
    "<br>\n",
    "<div style=\"background: #E8E7EB; border-radius: 5px;\n",
    "-moz-border-radius: 5px;\">\n",
    "  <p style=\"background: #800080;\n",
    "            border-radius: 5px 5px 0px 0px;\n",
    "            padding: 10px 0px 10px 10px;\n",
    "            font-size:18px;\n",
    "            color:white;\n",
    "            \"><b>Goal</b></p>\n",
    "    <p style=\" padding: 0px 0px 10px 10px;\n",
    "              font-size:16px;\">Evaluate the energy levels of the hydrogen ground state using Aer simulator.</p>\n",
    "</div>\n",
    "\n",
    "\n",
    "The energy of a quantum system can be estimated by measuring the expectation value of its Hamiltonian, which is a Hermitian operator, through the procedure we mastered in part 1.\n",
    "\n",
    "The ground state of hydrogen is not defined as a single unique state but actually contains four different states due to the spins of the electron and proton. In part 2 of this lab, we evaluate the energy difference among these four states, which is from the `hyperfine splitting`, by computing the energy expectation value for the system of two spins with the Hamiltonian expressed in Pauli operators. For more information about `hyperfine structure`, see [here](https://www.feynmanlectures.caltech.edu/III_12.html)"
   ]
  },
  {
   "cell_type": "markdown",
   "metadata": {},
   "source": [
    "Consider the system with two qubit interaction Hamiltonian $H = A(XX+YY+ZZ)$ where $A = 1.47e^{-6} eV$ and $X, Y, Z$ are Pauli gates. Then the energy expectation value of the system can be evaluated by combining the expectation value of each term in the Hamiltonian.\n",
    "In this case, $E = \\langle H\\rangle = A( \\langle XX\\rangle + \\langle YY\\rangle + \\langle ZZ\\rangle )$. "
   ]
  },
  {
   "cell_type": "markdown",
   "metadata": {},
   "source": [
    "<h3 style=\"font-size: 20px\">&#128211; 1. Express the expectation value of each term in the Hamiltonian for an arbitrary two qubit state   $|\\psi \\rangle$ in the computational basis.</h3>\n",
    "\n",
    "The case for the term $\\langle ZZ\\rangle$ is given as an example.\n",
    "\n",
    "$$\n",
    "\\begin{align}\n",
    "\\langle ZZ\\rangle &=\\langle \\psi | ZZ | \\psi\\rangle =\\langle \\psi|(|0\\rangle\\langle 0| - |1\\rangle\\langle 1|)\\otimes(|0\\rangle\\langle 0| - |1\\rangle\\langle 1|) |\\psi\\rangle\n",
    "=|\\langle 00|\\psi\\rangle|^2 - |\\langle 01 | \\psi\\rangle|^2 - |\\langle 10 | \\psi\\rangle|^2 + |\\langle 11|\\psi\\rangle|^2\\\\\\\\\n",
    "\\langle XX\\rangle &= \\\\\\\\\n",
    "\\langle YY\\rangle &= \n",
    "\\end{align}\n",
    "$$"
   ]
  },
  {
   "cell_type": "markdown",
   "metadata": {},
   "source": [
    "<h3 style=\"font-size: 20px\">2. Measure the expected energy of the system using the Aer simulator when two qubits are entangled. Regard the bell basis, four different entangled states.</h3>"
   ]
  },
  {
   "cell_type": "markdown",
   "metadata": {},
   "source": [
    "<h4 style=\"font-size: 17px\">&#128211;Step A. Construct the circuits to prepare four different bell states.</h4>\n",
    "\n",
    "Let's label each bell state as\n",
    "$$\n",
    "\\begin{align}\n",
    "Tri1 &= \\frac{1}{\\sqrt2} (|00\\rangle + |11\\rangle)\\\\\n",
    "Tri2 &= \\frac{1}{\\sqrt2} (|00\\rangle - |11\\rangle)\\\\\n",
    "Tri3 &= \\frac{1}{\\sqrt2} (|01\\rangle + |10\\rangle)\\\\\n",
    "Sing &= \\frac{1}{\\sqrt2} (|10\\rangle - |01\\rangle)\n",
    "\\end{align}\n",
    "$$"
   ]
  },
  {
   "cell_type": "code",
   "execution_count": null,
   "metadata": {},
   "outputs": [],
   "source": [
    "# circuit for the state Tri1\n",
    "Tri1 = QuantumCircuit(2, 2)\n",
    "# your code goes here\n",
    "\n",
    "\n",
    "\n",
    "\n",
    "\n",
    "\n",
    "# circuit for the state Tri2\n",
    "Tri2 = QuantumCircuit(2, 2)\n",
    "# your code goes here\n",
    "\n",
    "\n",
    "\n",
    "\n",
    "\n",
    "# circuit for the state Tri3\n",
    "Tri3 = QuantumCircuit(2, 2)\n",
    "# your code goes here\n",
    "\n",
    "\n",
    "\n",
    "\n",
    "\n",
    "\n",
    "# circuit for the state Sing\n",
    "Sing = QuantumCircuit(2, 2)\n",
    "# your code goes here\n",
    "\n",
    "\n",
    "\n",
    "\n",
    "\n",
    "\n"
   ]
  },
  {
   "cell_type": "markdown",
   "metadata": {},
   "source": [
    "<h4 style=\"font-size: 17px\">&#128211;Step B. Create the circuits to measure the expectation value of each term in the Hamiltonian based on your answer to the question 1.</h4>"
   ]
  },
  {
   "cell_type": "code",
   "execution_count": null,
   "metadata": {},
   "outputs": [],
   "source": [
    "# <ZZ> \n",
    "measure_ZZ = QuantumCircuit(2)\n",
    "measure_ZZ.measure_all()\n",
    "\n",
    "# <XX>\n",
    "measure_XX = QuantumCircuit(2)\n",
    "# your code goes here\n",
    "\n",
    "\n",
    "\n",
    "\n",
    "# <YY>\n",
    "measure_YY = QuantumCircuit(2)\n",
    "# your code goes here\n",
    "\n",
    "\n",
    "\n",
    "\n"
   ]
  },
  {
   "cell_type": "markdown",
   "metadata": {},
   "source": [
    "<h4 style=\"font-size: 17px\">&#128211;Step C. Execute the circuits on Aer simulator by running the cell below and evaluate the energy expectation value for each state.</h4>"
   ]
  },
  {
   "cell_type": "code",
   "execution_count": null,
   "metadata": {},
   "outputs": [],
   "source": [
    "shots = 2**14 # number of samples used for statistics\n",
    "\n",
    "A = 1.47e-6 #unit of A is eV\n",
    "E_sim = []\n",
    "for state_init in [Tri1,Tri2,Tri3,Sing]:\n",
    "    Energy_meas = []\n",
    "    for measure_circuit in [measure_XX, measure_YY, measure_ZZ]:\n",
    "    \n",
    "        # run the circuit with the selected measurement and get the number of samples that output each bit value\n",
    "        qc = state_init.compose(measure_circuit)\n",
    "        qc_trans = transpile(qc, sim)\n",
    "        counts = sim.run(qc_trans, shots=shots).result().get_counts()\n",
    "\n",
    "        # calculate the probabilities for each computational basis\n",
    "        probs = {}\n",
    "        for output in ['00','01', '10', '11']:\n",
    "            if output in counts:\n",
    "                probs[output] = counts[output]/shots\n",
    "            else:\n",
    "                probs[output] = 0\n",
    "            \n",
    "        Energy_meas.append( probs['00'] - probs['01'] - probs['10'] + probs['11'] )\n",
    " \n",
    "    E_sim.append(A * np.sum(np.array(Energy_meas)))"
   ]
  },
  {
   "cell_type": "code",
   "execution_count": null,
   "metadata": {},
   "outputs": [],
   "source": [
    "# Run this cell to print out your results\n",
    "\n",
    "print('Energy expectation value of the state Tri1 : {:.3e} eV'.format(E_sim[0]))\n",
    "print('Energy expectation value of the state Tri2 : {:.3e} eV'.format(E_sim[1]))\n",
    "print('Energy expectation value of the state Tri3 : {:.3e} eV'.format(E_sim[2]))\n",
    "print('Energy expectation value of the state Sing : {:.3e} eV'.format(E_sim[3]))"
   ]
  },
  {
   "cell_type": "markdown",
   "metadata": {},
   "source": [
    " <h4 style=\"font-size: 17px\">Step D. Understanding the result. </h4>\n",
    "\n",
    "If you found the energy expectation values successfully, you would have obtained exactly the same value, $A (= 1.47e^{-6} eV)$, for the triplet states, $|Tri1\\rangle, |Tri2\\rangle, |Tri3\\rangle$ and one lower energy level, $-3A (= -4.41e^{-6} eV)$ for the singlet state $|Sing\\rangle$.   \n",
    "\n",
    "What we have done here is measuring the energies of the four different spin states corresponding to the ground state of hydrogen and observed `hyperfine structure` in the energy levels caused by spin-spin coupling.  This tiny energy difference between the singlet and triplet states is the reason for the famous 21-cm wavelength radiation used to map the structure of the galaxy.  "
   ]
  },
  {
   "cell_type": "markdown",
   "metadata": {},
   "source": [
    "In the cell below, we verify the wavelength of the emission from the transition between the triplet states and singlet state. "
   ]
  },
  {
   "cell_type": "code",
   "execution_count": null,
   "metadata": {},
   "outputs": [],
   "source": [
    "# reduced plank constant in (eV) and the speed of light(cgs units)\n",
    "hbar, c = 4.1357e-15, 3e10\n",
    "\n",
    "# energy difference between the triplets and singlet\n",
    "E_del = abs(E_sim[0] - E_sim[3])\n",
    "\n",
    "# frequency associated with the energy difference\n",
    "f = E_del/hbar\n",
    "\n",
    "# convert frequency to wavelength in (cm) \n",
    "wavelength = c/f\n",
    "\n",
    "print('The wavelength of the radiation from the transition\\\n",
    " in the hyperfine structure is : {:.1f} cm'.format(wavelength))"
   ]
  },
  {
   "cell_type": "markdown",
   "metadata": {},
   "source": [
    "<h2 style=\"font-size:24px;\">Part 3: Execute the circuits on Quantum Computer</h2>\n",
    "\n",
    "<br>\n",
    "<div style=\"background: #E8E7EB; border-radius: 5px;\n",
    "-moz-border-radius: 5px;\">\n",
    "  <p style=\"background: #800080;\n",
    "            border-radius: 5px 5px 0px 0px;\n",
    "            padding: 10px 0px 10px 10px;\n",
    "            font-size:18px;\n",
    "            color:white;\n",
    "            \"><b>Goal</b></p>\n",
    "    <p style=\" padding: 0px 0px 10px 10px;\n",
    "              font-size:16px;\"> Re-run the circuits on a IBM quantum system.  Perform measurement error mitigations on the result to improve the accuracy in the energy estimation.</p>\n",
    "</div>"
   ]
  },
  {
   "cell_type": "markdown",
   "metadata": {},
   "source": [
    "<h4 style=\"font-size: 17px\">Step A. Run the following cells to load your account and select the backend </h4>"
   ]
  },
  {
   "cell_type": "code",
   "execution_count": 8,
   "metadata": {
    "tags": [
     "uses-hardware"
    ]
   },
   "outputs": [],
   "source": [
    "provider = IBMQ.load_account()\n",
    "#IBMQ.active_account() #make sure you've loaded/saved your account with using you API token\n",
    "#provider.backends()"
   ]
  },
  {
   "cell_type": "code",
   "execution_count": 11,
   "metadata": {
    "tags": [
     "uses-hardware"
    ]
   },
   "outputs": [],
   "source": [
    "#backend = provider.get_backend('qasm_simulator')\n",
    "\n",
    "backend = provider.get_backend('ibmq_lima') "
   ]
  },
  {
   "cell_type": "markdown",
   "metadata": {},
   "source": [
    "<h4 style=\"font-size: 17px\">Step B. Execute the circuits on the quantum system. </h4>\n",
    "\n",
    "\n",
    "In Lab1 when we executed multiple circuits on a real quantum system, we submitted each circuit as a separate job which produces the multiple job ids. This time, we put all the circuits in a list and execute the list of the circuits as one job. In this way, all the circuit executions can happen at once, which would possibly decrease your wait time in the queue."
   ]
  },
  {
   "cell_type": "markdown",
   "metadata": {},
   "source": [
    "<p>&#128211; <b>Check the backend configuration information and error map through the widget to determine your <code>initial_layout</code>.  The qubits on the hardware you want to use</b>"
   ]
  },
  {
   "cell_type": "code",
   "execution_count": null,
   "metadata": {
    "tags": [
     "uses-hardware"
    ]
   },
   "outputs": [],
   "source": [
    "# run this cell to get the backend information through the widget\n",
    "backend"
   ]
  },
  {
   "cell_type": "code",
   "execution_count": null,
   "metadata": {
    "tags": [
     "uses-hardware"
    ]
   },
   "outputs": [],
   "source": [
    "# assign your choice for the initial layout to the list variable `initial_layout`.\n",
    "initial_layout = "
   ]
  },
  {
   "cell_type": "markdown",
   "metadata": {},
   "source": [
    "Run the following cell to execute the circuits with the initial_layout on the backend."
   ]
  },
  {
   "cell_type": "code",
   "execution_count": null,
   "metadata": {
    "tags": [
     "uses-hardware"
    ]
   },
   "outputs": [],
   "source": [
    "qc_all = [state_init.compose(measure_circuit) for state_init in [Tri1,Tri2,Tri3,Sing] \n",
    "          for measure_circuit in [measure_XX, measure_YY, measure_ZZ] ]  \n",
    "\n",
    "shots = 8192\n",
    "qc_all_trans = transpile(qc_all, backend, initial_layout=initial_layout, optimization_level=3)\n",
    "job = backend.run(qc_all_trans, shots=shots)\n",
    "print(job.job_id())"
   ]
  },
  {
   "cell_type": "code",
   "execution_count": null,
   "metadata": {
    "tags": [
     "uses-hardware"
    ]
   },
   "outputs": [],
   "source": [
    "# getting the results of your job\n",
    "results = job.result()"
   ]
  },
  {
   "cell_type": "code",
   "execution_count": null,
   "metadata": {
    "tags": [
     "uses-hardware"
    ]
   },
   "outputs": [],
   "source": [
    "## To access the results of the completed job.  Use the job id from two cells above\n",
    "results = backend.retrieve_job('job_id').result()\n",
    "\n"
   ]
  },
  {
   "cell_type": "markdown",
   "metadata": {},
   "source": [
    "<h4 style=\"font-size: 17px\">Step C. Estimate the ground state energy levels from the results of the previous step by executing the cells below. </h4>"
   ]
  },
  {
   "cell_type": "code",
   "execution_count": null,
   "metadata": {
    "tags": [
     "uses-hardware"
    ]
   },
   "outputs": [],
   "source": [
    "def Energy(results, shots):\n",
    "    \"\"\"Compute the energy levels of the hydrogen ground state.\n",
    "    \n",
    "    Parameters:\n",
    "        results (obj): results, results from executing the circuits for measuring a Hamiltonian.\n",
    "        shots (int): shots, number of shots used for the circuit execution.\n",
    "        \n",
    "    Returns:\n",
    "        Energy (list): energy values of the four different hydrogen ground states\n",
    "    \"\"\"\n",
    "    E = []\n",
    "    A = 1.47e-6\n",
    "\n",
    "    for ind_state in range(4):\n",
    "        Energy_meas = []\n",
    "        for ind_comp in range(3):\n",
    "            counts = results.get_counts(ind_state*3+ind_comp)\n",
    "        \n",
    "            # calculate the probabilities for each computational basis\n",
    "            probs = {}\n",
    "            for output in ['00','01', '10', '11']:\n",
    "                if output in counts:\n",
    "                    probs[output] = counts[output]/shots\n",
    "                else:\n",
    "                    probs[output] = 0\n",
    "            \n",
    "            Energy_meas.append( probs['00'] - probs['01'] - probs['10'] + probs['11'] )\n",
    "\n",
    "        E.append(A * np.sum(np.array(Energy_meas)))\n",
    "    \n",
    "    return E"
   ]
  },
  {
   "cell_type": "code",
   "execution_count": null,
   "metadata": {
    "tags": [
     "uses-hardware"
    ]
   },
   "outputs": [],
   "source": [
    "E = Energy(results, shots)\n",
    "\n",
    "print('Energy expectation value of the state Tri1 : {:.3e} eV'.format(E[0]))\n",
    "print('Energy expectation value of the state Tri2 : {:.3e} eV'.format(E[1]))\n",
    "print('Energy expectation value of the state Tri3 : {:.3e} eV'.format(E[2]))\n",
    "print('Energy expectation value of the state Sing : {:.3e} eV'.format(E[3]))"
   ]
  },
  {
   "cell_type": "markdown",
   "metadata": {},
   "source": [
    "<h4 style=\"font-size: 17px\">Step D. Measurement error mitigation. </h4>\n",
    "\n",
    "The results you obtained from running the circuits on the quantum system are not exact due to the noise from the various sources such as enery relaxation, dephasing, crosstalk between qubits, etc. In this step, we will alleviate the effects of the noise through the measurement error mitigation. Before we start, watch this [video](https://www.youtube.com/watch?v=yuDxHJOKsVA&list=PLOFEBzvs-Vvp2xg9-POLJhQwtVktlYGbY&index=8). "
   ]
  },
  {
   "cell_type": "code",
   "execution_count": null,
   "metadata": {},
   "outputs": [],
   "source": [
    "from qiskit.ignis.mitigation.measurement import *"
   ]
  },
  {
   "cell_type": "markdown",
   "metadata": {},
   "source": [
    "<p>&#128211;Construct the circuits to profile the measurement errors of all basis states using the function 'complete_meas_cal'.  Obtain the measurement filter object, 'meas_filter', which will be applied to the noisy results to mitigate readout (measurement) error.<p> "
   ]
  },
  {
   "cell_type": "markdown",
   "metadata": {},
   "source": [
    "For further helpful information to complete this task, check [here](https://qiskit.org/textbook/ch-quantum-hardware/measurement-error-mitigation.html) . "
   ]
  },
  {
   "cell_type": "code",
   "execution_count": null,
   "metadata": {},
   "outputs": [],
   "source": [
    "# your code to create the circuits, meas_calibs, goes here\n",
    "\n",
    "# so i think you create a circuit that is just two quantum bits and then you see how the actual machine handles it.\n",
    "qr = QuantumRegister(2)\n",
    "meas_calibs, state_labels =  complete_meas_cal(qr=qr, circlabel='mcal')\n",
    "\n",
    "for circuit in meas_calibs:\n",
    "    print('Circuit',circuit.name)\n",
    "    print(circuit)\n",
    "    print()\n",
    "\n",
    "\n",
    "# execute meas_calibs on your choice of the backend\n",
    "meas_calibs_trans = transpile(meas_calibs, backend, optimization_level=3)\n",
    "#job = backend.run(meas_calibs_trans, backend, shots = shots) #not working bc of backend\n",
    "job = backend.run(meas_calibs_trans, shots=shots)\n",
    "print(job.job_id())\n",
    "job_monitor(job)\n",
    "cal_results = job.result()\n",
    "\n",
    "## To access the results of the completed job\n",
    "#cal_results = backend.retrieve_job('job_id').result()\n",
    "\n",
    "\n",
    "# your code to obtain the measurement filter object, 'meas_filter', goes here\n",
    "\n",
    "meas_fitter = CompleteMeasFitter(cal_results, state_labels, circlabel='mcal')\n",
    "\n",
    "#np.array_to_latex(meas_fitter.cal_matrix) #need to pip install array-to-latex? this doesnt work idk why\n",
    "\n",
    "#based on how the real quantum computer handles these results which are known. we can expect an error on the circuit\n",
    "# we are interested in and correct using the filter and fitter.\n"
   ]
  },
  {
   "cell_type": "code",
   "execution_count": null,
   "metadata": {},
   "outputs": [],
   "source": [
    "meas_filter = meas_fitter.filter\n",
    "#array_to_latex(meas_fitter.cal_matrix) #need to pip install array-to-latex\n",
    "\n",
    "results_new = meas_filter.apply(results)"
   ]
  },
  {
   "cell_type": "code",
   "execution_count": null,
   "metadata": {},
   "outputs": [],
   "source": [
    "E_new = Energy(results_new, shots)\n",
    "\n",
    "print('Energy expection value of the state Tri1 : {:.3e} eV'.format(E_new[0]))\n",
    "print('Energy expection value of the state Tri2 : {:.3e} eV'.format(E_new[1]))\n",
    "print('Energy expection value of the state Tri3 : {:.3e} eV'.format(E_new[2]))\n",
    "print('Energy expection value of the state Sing : {:.3e} eV'.format(E_new[3]))"
   ]
  },
  {
   "cell_type": "markdown",
   "metadata": {},
   "source": [
    "<h4 style=\"font-size: 17px\">Step E. Interpret the result. </h4>"
   ]
  },
  {
   "cell_type": "markdown",
   "metadata": {},
   "source": [
    "<p>&#128211; <b> Compute the relative errors ( or the fractional error ) of the energy values for all four states with and without measurement error mitigation.</b><p>"
   ]
  },
  {
   "cell_type": "code",
   "execution_count": null,
   "metadata": {},
   "outputs": [],
   "source": [
    "# results for the energy estimation from the simulation, \n",
    "# execution on a quantum system without error mitigation and\n",
    "# with error mitigation in numpy array format \n",
    "Energy_exact, Energy_exp_orig, Energy_exp_new = np.array(E_sim), np.array(E), np.array(E_new)"
   ]
  },
  {
   "cell_type": "code",
   "execution_count": null,
   "metadata": {},
   "outputs": [],
   "source": [
    "# Calculate the relative errors of the energy values without error mitigation \n",
    "# and assign to the numpy array variable `Err_rel_orig` of size 4\n",
    "Err_rel_orig = (Energy_exact - Energy_exp_orig)/Energy_exact"
   ]
  },
  {
   "cell_type": "code",
   "execution_count": null,
   "metadata": {},
   "outputs": [],
   "source": [
    "# Calculate the relative errors of the energy values with error mitigation \n",
    "# and assign to the numpy array variable `Err_rel_new` of size 4\n",
    "Err_rel_new = (Energy_exact - Energy_exp_new)/Energy_exact"
   ]
  },
  {
   "cell_type": "code",
   "execution_count": null,
   "metadata": {},
   "outputs": [],
   "source": [
    "np.set_printoptions(precision=3)\n",
    "\n",
    "print('The relative errors of the energy values for four bell basis\\\n",
    " without measurement error mitigation : {}'.format(Err_rel_orig))"
   ]
  },
  {
   "cell_type": "code",
   "execution_count": null,
   "metadata": {},
   "outputs": [],
   "source": [
    "np.set_printoptions(precision=3)\n",
    "\n",
    "print('The relative errors of the energy values for four bell basis\\\n",
    " with measurement error mitigation : {}'.format(Err_rel_new))"
   ]
  },
  {
   "cell_type": "markdown",
   "metadata": {},
   "source": [
    "<p>&#128211; <b> Compare the size of the errors before and after the measurment error mitigation and discuss about the effect of the readout error regarding the error map information of the backend that you selected.</b><p>  "
   ]
  },
  {
   "cell_type": "markdown",
   "metadata": {},
   "source": [
    "**Your answer:**"
   ]
  },
  {
   "cell_type": "markdown",
   "metadata": {},
   "source": []
  },
  {
   "cell_type": "code",
   "execution_count": 3,
   "metadata": {},
   "outputs": [
    {
     "data": {
      "text/html": [
       "<h3>Version Information</h3><table><tr><th>Qiskit Software</th><th>Version</th></tr><tr><td><code>qiskit-terra</code></td><td>0.19.1</td></tr><tr><td><code>qiskit-aer</code></td><td>0.10.2</td></tr><tr><td><code>qiskit-ignis</code></td><td>0.7.0</td></tr><tr><td><code>qiskit-ibmq-provider</code></td><td>0.18.3</td></tr><tr><td><code>qiskit</code></td><td>0.34.1</td></tr><tr><td><code>qiskit-nature</code></td><td>0.3.0</td></tr><tr><th>System information</th></tr><tr><td>Python version</td><td>3.9.7</td></tr><tr><td>Python compiler</td><td>GCC 7.5.0</td></tr><tr><td>Python build</td><td>default, Sep 16 2021 13:09:58</td></tr><tr><td>OS</td><td>Linux</td></tr><tr><td>CPUs</td><td>4</td></tr><tr><td>Memory (Gb)</td><td>6.053215026855469</td></tr><tr><td colspan='2'>Thu Jan 20 15:40:45 2022 EST</td></tr></table>"
      ],
      "text/plain": [
       "<IPython.core.display.HTML object>"
      ]
     },
     "metadata": {},
     "output_type": "display_data"
    },
    {
     "data": {
      "text/html": [
       "<div style='width: 100%; background-color:#d5d9e0;padding-left: 10px; padding-bottom: 10px; padding-right: 10px; padding-top: 5px'><h3>This code is a part of Qiskit</h3><p>&copy; Copyright IBM 2017, 2022.</p><p>This code is licensed under the Apache License, Version 2.0. You may<br>obtain a copy of this license in the LICENSE.txt file in the root directory<br> of this source tree or at http://www.apache.org/licenses/LICENSE-2.0.<p>Any modifications or derivative works of this code must retain this<br>copyright notice, and modified files need to carry a notice indicating<br>that they have been altered from the originals.</p></div>"
      ],
      "text/plain": [
       "<IPython.core.display.HTML object>"
      ]
     },
     "metadata": {},
     "output_type": "display_data"
    }
   ],
   "source": [
    "import qiskit.tools.jupyter\n",
    "%qiskit_version_table\n",
    "%qiskit_copyright"
   ]
  }
 ],
 "metadata": {
  "kernelspec": {
   "display_name": "Python 3 (ipykernel)",
   "language": "python",
   "name": "python3"
  },
  "language_info": {
   "codemirror_mode": {
    "name": "ipython",
    "version": 3
   },
   "file_extension": ".py",
   "mimetype": "text/x-python",
   "name": "python",
   "nbconvert_exporter": "python",
   "pygments_lexer": "ipython3",
   "version": "3.10.0"
  },
  "latex_envs": {
   "LaTeX_envs_menu_present": true,
   "autoclose": true,
   "autocomplete": true,
   "bibliofile": "biblio.bib",
   "cite_by": "apalike",
   "current_citInitial": 1,
   "eqLabelWithNumbers": true,
   "eqNumInitial": 1,
   "hotkeys": {
    "equation": "Ctrl-E",
    "itemize": "Ctrl-I"
   },
   "labels_anchors": false,
   "latex_user_defs": false,
   "report_style_numbering": false,
   "user_envs_cfg": false
  },
  "toc": {
   "base_numbering": 1,
   "nav_menu": {},
   "number_sections": true,
   "sideBar": true,
   "skip_h1_title": false,
   "title_cell": "Table of Contents",
   "title_sidebar": "Contents",
   "toc_cell": false,
   "toc_position": {},
   "toc_section_display": true,
   "toc_window_display": false
  },
  "widgets": {
   "application/vnd.jupyter.widget-state+json": {
    "state": {
     "053a7a003d384dfebb97c58df06898e5": {
      "model_module": "@jupyter-widgets/controls",
      "model_module_version": "1.5.0",
      "model_name": "HTMLModel",
      "state": {
       "layout": "IPY_MODEL_98a58049fb764105bd20af4f5a26b992",
       "style": "IPY_MODEL_8ce05649dbcc4a75a8fdd3b74147b7d3",
       "value": "<h5>Backend</h5>"
      }
     },
     "1407ba5e1f6f4609bb0eaa98e583c5eb": {
      "model_module": "@jupyter-widgets/controls",
      "model_module_version": "1.5.0",
      "model_name": "DescriptionStyleModel",
      "state": {
       "description_width": ""
      }
     },
     "292078c1a0714234a771b6c726222f4f": {
      "model_module": "@jupyter-widgets/base",
      "model_module_version": "1.2.0",
      "model_name": "LayoutModel",
      "state": {
       "grid_area": "right",
       "padding": "0px 0px 0px 0px",
       "width": "70px"
      }
     },
     "2c620d67515e435c8f97c69ff12dac64": {
      "model_module": "@jupyter-widgets/controls",
      "model_module_version": "1.5.0",
      "model_name": "HTMLModel",
      "state": {
       "layout": "IPY_MODEL_35c0cbc92bcd4d9abd21f1fbcb8de5e5",
       "style": "IPY_MODEL_1407ba5e1f6f4609bb0eaa98e583c5eb",
       "value": "<h5>Job ID</h5>"
      }
     },
     "30041a66acd34e1ba9ba9c5ecc341b02": {
      "model_module": "@jupyter-widgets/controls",
      "model_module_version": "1.5.0",
      "model_name": "ButtonModel",
      "state": {
       "button_style": "primary",
       "description": "Clear",
       "layout": "IPY_MODEL_292078c1a0714234a771b6c726222f4f",
       "style": "IPY_MODEL_649905a5e6a34a1f9cfdb7216b254578"
      }
     },
     "35c0cbc92bcd4d9abd21f1fbcb8de5e5": {
      "model_module": "@jupyter-widgets/base",
      "model_module_version": "1.2.0",
      "model_name": "LayoutModel",
      "state": {
       "width": "190px"
      }
     },
     "4c31796715eb4f19a97b4bd647f3aa15": {
      "model_module": "@jupyter-widgets/controls",
      "model_module_version": "1.5.0",
      "model_name": "HBoxModel",
      "state": {
       "children": [
        "IPY_MODEL_2c620d67515e435c8f97c69ff12dac64",
        "IPY_MODEL_053a7a003d384dfebb97c58df06898e5",
        "IPY_MODEL_d4d9c546cd364c449692c73ccc217387",
        "IPY_MODEL_da0721ffb6964a7dabf3ef390d3b1a24",
        "IPY_MODEL_bda6cd9e1a39461cbb45c1782cd7bb8e"
       ],
       "layout": "IPY_MODEL_85de4a191ba24884a21b27f7097ea867"
      }
     },
     "5c968b5f5d8d422e8838e021f921fb64": {
      "model_module": "@jupyter-widgets/controls",
      "model_module_version": "1.5.0",
      "model_name": "DescriptionStyleModel",
      "state": {
       "description_width": ""
      }
     },
     "649905a5e6a34a1f9cfdb7216b254578": {
      "model_module": "@jupyter-widgets/controls",
      "model_module_version": "1.5.0",
      "model_name": "ButtonStyleModel",
      "state": {}
     },
     "7345eadaf8cb49019b7b818093cc220c": {
      "model_module": "@jupyter-widgets/base",
      "model_module_version": "1.2.0",
      "model_name": "LayoutModel",
      "state": {
       "width": "95px"
      }
     },
     "85de4a191ba24884a21b27f7097ea867": {
      "model_module": "@jupyter-widgets/base",
      "model_module_version": "1.2.0",
      "model_name": "LayoutModel",
      "state": {
       "margin": "0px 0px 0px 37px",
       "width": "600px"
      }
     },
     "86d543d59d874dba87a6596166bfc26f": {
      "model_module": "@jupyter-widgets/controls",
      "model_module_version": "1.5.0",
      "model_name": "DescriptionStyleModel",
      "state": {
       "description_width": ""
      }
     },
     "885b4e893c1a4044a1e11a58b3488fb9": {
      "model_module": "@jupyter-widgets/base",
      "model_module_version": "1.2.0",
      "model_name": "LayoutModel",
      "state": {}
     },
     "8c0a0af9ecb54e6bb483f4a6857b0837": {
      "model_module": "@jupyter-widgets/base",
      "model_module_version": "1.2.0",
      "model_name": "LayoutModel",
      "state": {
       "width": "70px"
      }
     },
     "8ce05649dbcc4a75a8fdd3b74147b7d3": {
      "model_module": "@jupyter-widgets/controls",
      "model_module_version": "1.5.0",
      "model_name": "DescriptionStyleModel",
      "state": {
       "description_width": ""
      }
     },
     "98a58049fb764105bd20af4f5a26b992": {
      "model_module": "@jupyter-widgets/base",
      "model_module_version": "1.2.0",
      "model_name": "LayoutModel",
      "state": {
       "width": "145px"
      }
     },
     "b5a93c630bdc412f86c0b82a808b835c": {
      "model_module": "@jupyter-widgets/controls",
      "model_module_version": "1.5.0",
      "model_name": "HTMLModel",
      "state": {
       "layout": "IPY_MODEL_dc44bab9524c466dae14fc606971cc66",
       "style": "IPY_MODEL_5c968b5f5d8d422e8838e021f921fb64",
       "value": "<p style='font-family: IBM Plex Sans, Arial, Helvetica, sans-serif; font-size: 20px; font-weight: medium;'>Circuit Properties</p>"
      }
     },
     "bda6cd9e1a39461cbb45c1782cd7bb8e": {
      "model_module": "@jupyter-widgets/controls",
      "model_module_version": "1.5.0",
      "model_name": "HTMLModel",
      "state": {
       "layout": "IPY_MODEL_885b4e893c1a4044a1e11a58b3488fb9",
       "style": "IPY_MODEL_c0a7bfb516af4616a82e1a5498a16944",
       "value": "<h5>Message</h5>"
      }
     },
     "c0a7bfb516af4616a82e1a5498a16944": {
      "model_module": "@jupyter-widgets/controls",
      "model_module_version": "1.5.0",
      "model_name": "DescriptionStyleModel",
      "state": {
       "description_width": ""
      }
     },
     "d4d9c546cd364c449692c73ccc217387": {
      "model_module": "@jupyter-widgets/controls",
      "model_module_version": "1.5.0",
      "model_name": "HTMLModel",
      "state": {
       "layout": "IPY_MODEL_7345eadaf8cb49019b7b818093cc220c",
       "style": "IPY_MODEL_e0b7db9b0a194fdb8d39fda0871c98da",
       "value": "<h5>Status</h5>"
      }
     },
     "da0721ffb6964a7dabf3ef390d3b1a24": {
      "model_module": "@jupyter-widgets/controls",
      "model_module_version": "1.5.0",
      "model_name": "HTMLModel",
      "state": {
       "layout": "IPY_MODEL_8c0a0af9ecb54e6bb483f4a6857b0837",
       "style": "IPY_MODEL_86d543d59d874dba87a6596166bfc26f",
       "value": "<h5>Queue</h5>"
      }
     },
     "dc44bab9524c466dae14fc606971cc66": {
      "model_module": "@jupyter-widgets/base",
      "model_module_version": "1.2.0",
      "model_name": "LayoutModel",
      "state": {
       "margin": "0px 0px 10px 0px"
      }
     },
     "dc6c351bd90e4b18b81eb926e7b9577c": {
      "model_module": "@jupyter-widgets/base",
      "model_module_version": "1.2.0",
      "model_name": "LayoutModel",
      "state": {
       "grid_template_areas": "\n                                       \". . . . right \"\n                                        ",
       "grid_template_columns": "20% 20% 20% 20% 20%",
       "width": "100%"
      }
     },
     "e0b7db9b0a194fdb8d39fda0871c98da": {
      "model_module": "@jupyter-widgets/controls",
      "model_module_version": "1.5.0",
      "model_name": "DescriptionStyleModel",
      "state": {
       "description_width": ""
      }
     },
     "e7a44e7bd5e047cf844561941c72dec0": {
      "model_module": "@jupyter-widgets/controls",
      "model_module_version": "1.5.0",
      "model_name": "GridBoxModel",
      "state": {
       "children": [
        "IPY_MODEL_30041a66acd34e1ba9ba9c5ecc341b02"
       ],
       "layout": "IPY_MODEL_dc6c351bd90e4b18b81eb926e7b9577c"
      }
     }
    },
    "version_major": 2,
    "version_minor": 0
   }
  }
 },
 "nbformat": 4,
 "nbformat_minor": 2
}
